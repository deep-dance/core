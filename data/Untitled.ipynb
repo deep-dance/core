{
 "cells": [
  {
   "cell_type": "code",
   "execution_count": 5,
   "metadata": {},
   "outputs": [],
   "source": [
    "import os\n",
    "import subprocess\n",
    "import math"
   ]
  },
  {
   "cell_type": "code",
   "execution_count": 14,
   "metadata": {},
   "outputs": [
    {
     "ename": "ValueError",
     "evalue": "invalid literal for int() with base 10: 'Set01_raymond_midTempo_legsUpright+Floor'",
     "output_type": "error",
     "traceback": [
      "\u001b[0;31m---------------------------------------------------------------------------\u001b[0m",
      "\u001b[0;31mValueError\u001b[0m                                Traceback (most recent call last)",
      "\u001b[0;32m<ipython-input-14-04ecd0b57f8c>\u001b[0m in \u001b[0;36m<module>\u001b[0;34m\u001b[0m\n\u001b[1;32m      1\u001b[0m \u001b[0;31m#get seq number of last created folder\u001b[0m\u001b[0;34m\u001b[0m\u001b[0;34m\u001b[0m\u001b[0;34m\u001b[0m\u001b[0m\n\u001b[0;32m----> 2\u001b[0;31m \u001b[0mmax_seq\u001b[0m \u001b[0;34m=\u001b[0m \u001b[0mmax\u001b[0m\u001b[0;34m(\u001b[0m\u001b[0;34m[\u001b[0m\u001b[0mint\u001b[0m\u001b[0;34m(\u001b[0m\u001b[0mx\u001b[0m\u001b[0;34m[\u001b[0m\u001b[0;36m4\u001b[0m\u001b[0;34m:\u001b[0m\u001b[0;34m]\u001b[0m\u001b[0;34m)\u001b[0m \u001b[0;32mfor\u001b[0m \u001b[0mx\u001b[0m \u001b[0;32min\u001b[0m \u001b[0mnext\u001b[0m\u001b[0;34m(\u001b[0m\u001b[0mos\u001b[0m\u001b[0;34m.\u001b[0m\u001b[0mwalk\u001b[0m\u001b[0;34m(\u001b[0m\u001b[0;34m'train'\u001b[0m\u001b[0;34m)\u001b[0m\u001b[0;34m)\u001b[0m\u001b[0;34m[\u001b[0m\u001b[0;36m1\u001b[0m\u001b[0;34m]\u001b[0m\u001b[0;34m]\u001b[0m\u001b[0;34m)\u001b[0m\u001b[0;34m\u001b[0m\u001b[0;34m\u001b[0m\u001b[0m\n\u001b[0m",
      "\u001b[0;32m<ipython-input-14-04ecd0b57f8c>\u001b[0m in \u001b[0;36m<listcomp>\u001b[0;34m(.0)\u001b[0m\n\u001b[1;32m      1\u001b[0m \u001b[0;31m#get seq number of last created folder\u001b[0m\u001b[0;34m\u001b[0m\u001b[0;34m\u001b[0m\u001b[0;34m\u001b[0m\u001b[0m\n\u001b[0;32m----> 2\u001b[0;31m \u001b[0mmax_seq\u001b[0m \u001b[0;34m=\u001b[0m \u001b[0mmax\u001b[0m\u001b[0;34m(\u001b[0m\u001b[0;34m[\u001b[0m\u001b[0mint\u001b[0m\u001b[0;34m(\u001b[0m\u001b[0mx\u001b[0m\u001b[0;34m[\u001b[0m\u001b[0;36m4\u001b[0m\u001b[0;34m:\u001b[0m\u001b[0;34m]\u001b[0m\u001b[0;34m)\u001b[0m \u001b[0;32mfor\u001b[0m \u001b[0mx\u001b[0m \u001b[0;32min\u001b[0m \u001b[0mnext\u001b[0m\u001b[0;34m(\u001b[0m\u001b[0mos\u001b[0m\u001b[0;34m.\u001b[0m\u001b[0mwalk\u001b[0m\u001b[0;34m(\u001b[0m\u001b[0;34m'train'\u001b[0m\u001b[0;34m)\u001b[0m\u001b[0;34m)\u001b[0m\u001b[0;34m[\u001b[0m\u001b[0;36m1\u001b[0m\u001b[0;34m]\u001b[0m\u001b[0;34m]\u001b[0m\u001b[0;34m)\u001b[0m\u001b[0;34m\u001b[0m\u001b[0;34m\u001b[0m\u001b[0m\n\u001b[0m",
      "\u001b[0;31mValueError\u001b[0m: invalid literal for int() with base 10: 'Set01_raymond_midTempo_legsUpright+Floor'"
     ]
    }
   ],
   "source": [
    "#get seq number of last created folder \n",
    "max_seq = max([int(x[4:]) for x in next(os.walk('train'))[1]])"
   ]
  },
  {
   "cell_type": "code",
   "execution_count": 7,
   "metadata": {},
   "outputs": [],
   "source": [
    "\n"
   ]
  },
  {
   "cell_type": "code",
   "execution_count": null,
   "metadata": {},
   "outputs": [],
   "source": [
    "\"ffmpeg -i input_seq.mp4 -vf scale=800:600 output.avi\".split()"
   ]
  },
  {
   "cell_type": "code",
   "execution_count": 1,
   "metadata": {},
   "outputs": [
    {
     "data": {
      "text/plain": [
       "['ffmpeg', '-i', 'input_seq.mp4', '-vf', 'scale=800:600', 'output.avi']"
      ]
     },
     "execution_count": 1,
     "metadata": {},
     "output_type": "execute_result"
    }
   ],
   "source": [
    "\"ffmpeg -i input_seq.mp4 -vf scale=800:600 output.avi\".split()"
   ]
  },
  {
   "cell_type": "code",
   "execution_count": null,
   "metadata": {},
   "outputs": [],
   "source": []
  },
  {
   "cell_type": "code",
   "execution_count": 8,
   "metadata": {},
   "outputs": [],
   "source": []
  },
  {
   "cell_type": "code",
   "execution_count": 9,
   "metadata": {},
   "outputs": [
    {
     "data": {
      "text/plain": [
       "'testSet01_raymond_midTempo_legsUpright+Floor.mov'"
      ]
     },
     "execution_count": 9,
     "metadata": {},
     "output_type": "execute_result"
    }
   ],
   "source": []
  },
  {
   "cell_type": "code",
   "execution_count": null,
   "metadata": {},
   "outputs": [],
   "source": []
  },
  {
   "cell_type": "code",
   "execution_count": 25,
   "metadata": {},
   "outputs": [
    {
     "data": {
      "text/plain": [
       "['testSet01_raymond_midTempo_repFowardbend.mov',\n",
       " 'testSet01_raymond_midTempo_legsUpright+Floor.mov',\n",
       " 'testSet01_raymond_slow_upright.mov',\n",
       " 'testSet01_raymond_midTempo_repBoxingstep.mov',\n",
       " 'testSet01_raymond_midTempo_upright+Floor.mov',\n",
       " 'testSet01_raymond_midTempo_upright.mov',\n",
       " 'testSet01_raymond_quick_upright+Floor.mov']"
      ]
     },
     "execution_count": 25,
     "metadata": {},
     "output_type": "execute_result"
    }
   ],
   "source": [
    "next(os.walk('wetransfer-875e0f'))[2]"
   ]
  },
  {
   "cell_type": "code",
   "execution_count": 18,
   "metadata": {},
   "outputs": [],
   "source": [
    "path_to_video = \"wetransfer-875e0f/testSet01_raymond_midTempo_legsUpright+Floor.mov\"\n",
    "\n",
    "file=os.path.basename(path_to_video)\n",
    "scaled_file = \"scaled\" + file\n",
    "\n",
    "#scale video\n",
    "command_scale = ['ffmpeg', '-i', path_to_video, '-vf', 'scale=800:600', scaled_file]\n",
    "subprocess.run(command_scale)\n",
    "\n",
    "\n",
    "#get duration of video\n",
    "command_duration =['ffprobe',\n",
    "          '-i',\n",
    "          scaled_file,\n",
    "          '-show_entries',\n",
    "          'format=duration',\n",
    "          '-v',\n",
    "          'quiet',\n",
    "          '-of',\n",
    "          'csv=%s' % (\"p=0\")]\n",
    "duration = subprocess.check_output(command_duration)\n",
    "\n",
    "cut_duration = 30\n",
    "#number of cuts\n",
    "n_seqs = math.ceil(float(duration[:-2])/cut_duration)\n",
    "\n",
    "#create folders and cut video sequences\n",
    "for i in range(n_seqs):\n",
    "    path_to = './train/' + base + '/seq_' + str(i)\n",
    "    cut_command = ['ffmpeg',\n",
    "                   '-i',\n",
    "                   scaled_file,\n",
    "                   '-ss',\n",
    "                   str(i*cut_duration),\n",
    "                   '-to',\n",
    "                   str((i+1)*cut_duration),\n",
    "                   '-c',\n",
    "                   'copy',\n",
    "                   path_to + '/input_seq.mp4']\n",
    "    subprocess.run(['mkdir', '-p', path_to])\n",
    "    subprocess.run(cut_command)"
   ]
  },
  {
   "cell_type": "code",
   "execution_count": 104,
   "metadata": {},
   "outputs": [
    {
     "data": {
      "text/plain": [
       "3"
      ]
     },
     "execution_count": 104,
     "metadata": {},
     "output_type": "execute_result"
    }
   ],
   "source": [
    "n_seqs"
   ]
  },
  {
   "cell_type": "code",
   "execution_count": 123,
   "metadata": {},
   "outputs": [],
   "source": []
  },
  {
   "cell_type": "code",
   "execution_count": 112,
   "metadata": {},
   "outputs": [
    {
     "name": "stdout",
     "output_type": "stream",
     "text": [
      "0\n",
      "30\n",
      "30\n",
      "60\n",
      "60\n",
      "90\n"
     ]
    }
   ],
   "source": [
    "for i in range(n_seqs):\n",
    "    print(str(i*cut_duration))\n",
    "    print(str((i+1)*cut_duration))"
   ]
  },
  {
   "cell_type": "code",
   "execution_count": 27,
   "metadata": {},
   "outputs": [
    {
     "data": {
      "text/plain": [
       "['testSet01_raymond_midTempo_repBoxingstep',\n",
       " 'testSet01_raymond_slow_upright',\n",
       " 'testSet01_raymond_midTempo_legsUpright+Floor',\n",
       " 'testSet01_raymond_midTempo_repFowardbend',\n",
       " 'testSet01_raymond_midTempo_upright',\n",
       " 'testSet01_raymond_midTempo_upright+Floor',\n",
       " 'testSet01_raymond_quick_upright+Floor']"
      ]
     },
     "execution_count": 27,
     "metadata": {},
     "output_type": "execute_result"
    }
   ],
   "source": [
    "\tfor video_folder in os.listdir(basedir):\n",
    "\t\tfor folder in os.listdir(basedir):\n",
    "\n",
    "os.listdir('./train')"
   ]
  },
  {
   "cell_type": "code",
   "execution_count": 107,
   "metadata": {},
   "outputs": [
    {
     "data": {
      "text/plain": [
       "'60'"
      ]
     },
     "execution_count": 107,
     "metadata": {},
     "output_type": "execute_result"
    }
   ],
   "source": [
    " str(i*cut_duration)"
   ]
  },
  {
   "cell_type": "code",
   "execution_count": 70,
   "metadata": {},
   "outputs": [
    {
     "data": {
      "text/plain": [
       "\"b'79.680000\\\\n'\""
      ]
     },
     "execution_count": 70,
     "metadata": {},
     "output_type": "execute_result"
    }
   ],
   "source": [
    "subprocess.check_output"
   ]
  },
  {
   "cell_type": "code",
   "execution_count": 121,
   "metadata": {},
   "outputs": [
    {
     "data": {
      "text/plain": [
       "CompletedProcess(args=['ffmpeg', '-i', 'wetransfer-875e0f/testSet01_raymond_midTempo_legsUpright+Floor.mov', '-ss', '30', '-to', '60', '-c', 'copy', './train/testSet01_raymond_midTempo_legsUpright+Floor/seq_1/input_seq.mp4'], returncode=1)"
      ]
     },
     "execution_count": 121,
     "metadata": {},
     "output_type": "execute_result"
    }
   ],
   "source": [
    "path_to = './train/' + base + '/seq_' + str(i)\n",
    "cut_command = ['ffmpeg',\n",
    "               '-i',\n",
    "               path_to_video,\n",
    "               '-ss',\n",
    "               str(i*cut_duration),\n",
    "               '-to',\n",
    "               str((i+1)*cut_duration),\n",
    "               '-c',\n",
    "               'copy',\n",
    "               path_to + '/input_seq.mp4']\n",
    "subprocess.run(['mkdir', '-p', path_to])\n",
    "subprocess.run(cut_command)"
   ]
  },
  {
   "cell_type": "code",
   "execution_count": 117,
   "metadata": {},
   "outputs": [
    {
     "data": {
      "text/plain": [
       "1"
      ]
     },
     "execution_count": 117,
     "metadata": {},
     "output_type": "execute_result"
    }
   ],
   "source": [
    "i"
   ]
  },
  {
   "cell_type": "code",
   "execution_count": 116,
   "metadata": {},
   "outputs": [],
   "source": [
    "i=1"
   ]
  }
 ],
 "metadata": {
  "kernelspec": {
   "display_name": "Python 3",
   "language": "python",
   "name": "python3"
  },
  "language_info": {
   "codemirror_mode": {
    "name": "ipython",
    "version": 3
   },
   "file_extension": ".py",
   "mimetype": "text/x-python",
   "name": "python",
   "nbconvert_exporter": "python",
   "pygments_lexer": "ipython3",
   "version": "3.6.9"
  }
 },
 "nbformat": 4,
 "nbformat_minor": 4
}
