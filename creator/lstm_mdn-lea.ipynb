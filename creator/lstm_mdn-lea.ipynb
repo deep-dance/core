{
 "cells": [
  {
   "cell_type": "markdown",
   "metadata": {},
   "source": [
    "# RNN for 3D keypoint generation"
   ]
  },
  {
   "cell_type": "markdown",
   "metadata": {},
   "source": [
    "## Build network with Keras"
   ]
  },
  {
   "cell_type": "code",
   "execution_count": 1,
   "metadata": {},
   "outputs": [
    {
     "name": "stdout",
     "output_type": "stream",
     "text": [
      "Num GPUs Available:  1\n"
     ]
    }
   ],
   "source": [
    "import warnings\n",
    "warnings.filterwarnings('ignore')\n",
    "\n",
    "import importlib\n",
    "import time\n",
    "\n",
    "import math\n",
    "import numpy as np\n",
    "import tensorflow as tf\n",
    "from tensorflow import keras\n",
    "from tensorflow.keras import layers\n",
    "import matplotlib.pyplot as plt\n",
    "%matplotlib inline\n",
    "import numpy as np\n",
    "from sklearn.model_selection import train_test_split\n",
    "import mdn\n",
    "from tensorflow.compat.v1 import ConfigProto\n",
    "from tensorflow.compat.v1 import InteractiveSession\n",
    "\n",
    "from data_utils import *\n",
    "\n",
    "import os,sys,inspect\n",
    "currentdir = os.path.dirname(os.path.abspath(inspect.getfile(inspect.currentframe())))\n",
    "parentdir = os.path.dirname(currentdir)\n",
    "sys.path.insert(0,os.path.join(parentdir, 'renderer')) \n",
    "#from common import *\n",
    "\n",
    "config = ConfigProto()\n",
    "config.gpu_options.allow_growth = True\n",
    "session = InteractiveSession(config=config)\n",
    "\n",
    "print(\"Num GPUs Available: \", len(tf.config.experimental.list_physical_devices('GPU')))"
   ]
  },
  {
   "cell_type": "markdown",
   "metadata": {},
   "source": [
    "### Parameters"
   ]
  },
  {
   "cell_type": "code",
   "execution_count": 4,
   "metadata": {},
   "outputs": [],
   "source": [
    "#Dataset Generation\n",
    "LOOK_BACK = 10\n",
    "OUT_LOOK = 1\n",
    "TAGS = [\"impro\"]\n",
    "DANCER = [\"maria\"]\n",
    "TRAJ_ON = False\n",
    "TEST_SHARE = 0.05\n",
    "NORMALIZE_Z = True\n",
    "ADD_SD = False\n",
    "\n",
    "#Model\n",
    "LSTM_PARAMS = 32\n",
    "MODEL_NAME = 'lstm-mdn-lea'\n",
    "\n",
    "#Training\n",
    "BATCH_SIZE = 64\n",
    "EPOCHS = 3\n",
    "VAL_SPLIT = 0.05\n",
    "\n",
    "#Generation\n",
    "TEMP = 1.0\n",
    "RESCALE = True\n",
    "\n",
    "\n",
    "BODY_SEGS = np.array([0.09205135, 0.38231316, 0.37099043, 0.09205053, 0.38036615,\n",
    "        0.37101445, 0.20778206, 0.23425052, 0.0848529 , 0.10083677,\n",
    "        0.10969228, 0.23822378, 0.19867802, 0.10972143, 0.23854321,\n",
    "        0.1993194 ])\n",
    "\n",
    "filename = str(DANCER)+\"_traj_\"+str(TRAJ_ON)+\"_epochs_\"+str(EPOCHS)+\"_lookback_\"+str(LOOK_BACK)+\"_outlook_\"+str(OUT_LOOK)+\"_params_\"+str(LSTM_PARAMS)+\"_temp_\"+str(TEMP)+\"_RESCALE_\"+str(RESCALE)+\"_batchsize_\"+str(BATCH_SIZE)+\"_addInput_\"+str(ADD_SD)"
   ]
  },
  {
   "cell_type": "markdown",
   "metadata": {},
   "source": [
    "### Import keypoint sequences"
   ]
  },
  {
   "cell_type": "code",
   "execution_count": 5,
   "metadata": {},
   "outputs": [
    {
     "name": "stdout",
     "output_type": "stream",
     "text": [
      "Getting data for dancers:  ['maria']\n",
      "Getting data for tags:  ['impro']\n",
      "Normalizing body...\n",
      "data shape:\n",
      "X_train:  (171057, 10, 51)\n",
      "y_train:  (171057, 1, 51)\n",
      "X_test:  (9004, 10, 51)\n",
      "y_test:  (9004, 1, 51)\n"
     ]
    }
   ],
   "source": [
    "#load data, you can filter with: dancers = [\"maria\", \"raymond\", ...] and tags = [\"impro\", ...]\n",
    "X, y = get_training_data(dancers=DANCER, tags=TAGS,look_back = LOOK_BACK, target_length= OUT_LOOK, hip_correction = TRAJ_ON, normalize_z=NORMALIZE_Z, normalize_body=True, body_segments = BODY_SEGS)\n",
    "\n",
    "# split into train and test set\n",
    "X_train, X_test, y_train, y_test = train_test_split(X, y, test_size=TEST_SHARE, shuffle= False, random_state=42)\n",
    "\n",
    "print(\"data shape:\")\n",
    "print(\"X_train: \", np.shape(X_train))\n",
    "print(\"y_train: \", np.shape(y_train))\n",
    "print(\"X_test: \", np.shape(X_test))\n",
    "print(\"y_test: \", np.shape(y_test))"
   ]
  },
  {
   "cell_type": "code",
   "execution_count": 7,
   "metadata": {},
   "outputs": [
    {
     "data": {
      "image/png": "[encoded data removed]",
      "text/plain": [
       "<Figure size 432x288 with 1 Axes>"
      ]
     },
     "metadata": {
      "needs_background": "light"
     },
     "output_type": "display_data"
    }
   ],
   "source": [
    "plt.plot(X_train[1000:1100,0,3])\n",
    "plt.show()"
   ]
  },
  {
   "cell_type": "code",
   "execution_count": 4,
   "metadata": {},
   "outputs": [
    {
     "ename": "IndexError",
     "evalue": "index 51 is out of bounds for axis 2 with size 51",
     "output_type": "error",
     "traceback": [
      "\u001b[0;31m---------------------------------------------------------------------------\u001b[0m",
      "\u001b[0;31mIndexError\u001b[0m                                Traceback (most recent call last)",
      "\u001b[0;32m<ipython-input-4-3a53cf9ea363>\u001b[0m in \u001b[0;36m<module>\u001b[0;34m\u001b[0m\n\u001b[0;32m----> 1\u001b[0;31m \u001b[0mdiff\u001b[0m \u001b[0;34m=\u001b[0m \u001b[0mX_train\u001b[0m\u001b[0;34m[\u001b[0m\u001b[0;34m:\u001b[0m\u001b[0;34m,\u001b[0m\u001b[0;34m:\u001b[0m\u001b[0;34m,\u001b[0m\u001b[0;36m51\u001b[0m\u001b[0;34m]\u001b[0m\u001b[0;34m\u001b[0m\u001b[0;34m\u001b[0m\u001b[0m\n\u001b[0m\u001b[1;32m      2\u001b[0m \u001b[0mprint\u001b[0m\u001b[0;34m(\u001b[0m\u001b[0mdiff\u001b[0m\u001b[0;34m.\u001b[0m\u001b[0mshape\u001b[0m\u001b[0;34m)\u001b[0m\u001b[0;34m\u001b[0m\u001b[0;34m\u001b[0m\u001b[0m\n\u001b[1;32m      3\u001b[0m \u001b[0mfig\u001b[0m\u001b[0;34m=\u001b[0m\u001b[0mplt\u001b[0m\u001b[0;34m.\u001b[0m\u001b[0mfigure\u001b[0m\u001b[0;34m(\u001b[0m\u001b[0mfigsize\u001b[0m\u001b[0;34m=\u001b[0m\u001b[0;34m(\u001b[0m\u001b[0;36m20\u001b[0m\u001b[0;34m,\u001b[0m \u001b[0;36m5\u001b[0m\u001b[0;34m)\u001b[0m\u001b[0;34m)\u001b[0m\u001b[0;34m\u001b[0m\u001b[0;34m\u001b[0m\u001b[0m\n\u001b[1;32m      4\u001b[0m \u001b[0mplt\u001b[0m\u001b[0;34m.\u001b[0m\u001b[0mplot\u001b[0m\u001b[0;34m(\u001b[0m\u001b[0mnp\u001b[0m\u001b[0;34m.\u001b[0m\u001b[0mreshape\u001b[0m\u001b[0;34m(\u001b[0m\u001b[0mdiff\u001b[0m\u001b[0;34m,\u001b[0m\u001b[0;34m(\u001b[0m\u001b[0mX_train\u001b[0m\u001b[0;34m.\u001b[0m\u001b[0mshape\u001b[0m\u001b[0;34m[\u001b[0m\u001b[0;36m0\u001b[0m\u001b[0;34m]\u001b[0m\u001b[0;34m*\u001b[0m\u001b[0mX_train\u001b[0m\u001b[0;34m.\u001b[0m\u001b[0mshape\u001b[0m\u001b[0;34m[\u001b[0m\u001b[0;36m1\u001b[0m\u001b[0;34m]\u001b[0m\u001b[0;34m)\u001b[0m\u001b[0;34m)\u001b[0m\u001b[0;34m[\u001b[0m\u001b[0;36m90000\u001b[0m\u001b[0;34m:\u001b[0m\u001b[0;36m94000\u001b[0m\u001b[0;34m]\u001b[0m\u001b[0;34m)\u001b[0m\u001b[0;34m\u001b[0m\u001b[0;34m\u001b[0m\u001b[0m\n",
      "\u001b[0;31mIndexError\u001b[0m: index 51 is out of bounds for axis 2 with size 51"
     ]
    }
   ],
   "source": [
    "diff = X_train[:,:,51]\n",
    "print(diff.shape)\n",
    "fig=plt.figure(figsize=(20, 5))\n",
    "plt.plot(np.reshape(diff,(X_train.shape[0]*X_train.shape[1]))[90000:94000])"
   ]
  },
  {
   "cell_type": "markdown",
   "metadata": {},
   "source": [
    "### build model"
   ]
  },
  {
   "cell_type": "code",
   "execution_count": 8,
   "metadata": {},
   "outputs": [
    {
     "name": "stdout",
     "output_type": "stream",
     "text": [
      "Model: \"sequential\"\n",
      "_________________________________________________________________\n",
      "Layer (type)                 Output Shape              Param #   \n",
      "=================================================================\n",
      "lstm (LSTM)                  (None, 10, 32)            10752     \n",
      "_________________________________________________________________\n",
      "lstm_1 (LSTM)                (None, 10, 32)            8320      \n",
      "_________________________________________________________________\n",
      "lstm_2 (LSTM)                (None, 51)                17136     \n",
      "_________________________________________________________________\n",
      "dense (Dense)                (None, 51)                2652      \n",
      "_________________________________________________________________\n",
      "mdn (MDN)                    (None, 309)               16068     \n",
      "=================================================================\n",
      "Total params: 54,928\n",
      "Trainable params: 54,928\n",
      "Non-trainable params: 0\n",
      "_________________________________________________________________\n"
     ]
    }
   ],
   "source": [
    "model = keras.Sequential()\n",
    "model.add(layers.LSTM(LSTM_PARAMS, input_shape=(LOOK_BACK, X_train.shape[2]),  return_sequences=True))\n",
    "model.add(layers.LSTM(LSTM_PARAMS, return_sequences=True))\n",
    "model.add(layers.LSTM(OUT_LOOK*51))\n",
    "model.add(layers.Dense(OUT_LOOK*51))\n",
    "model.add(mdn.MDN(OUT_LOOK*51, 3))\n",
    "model.compile(loss=custom_mixture_loss_func(OUT_LOOK*51,3), optimizer=keras.optimizers.Adam())\n",
    "#model.compile(loss=keras.losses.MeanSquaredError(), optimizer=keras.optimizers.Adam())\n",
    "model.summary()"
   ]
  },
  {
   "cell_type": "markdown",
   "metadata": {},
   "source": [
    "### Train model"
   ]
  },
  {
   "cell_type": "code",
   "execution_count": 9,
   "metadata": {
    "scrolled": true
   },
   "outputs": [
    {
     "name": "stdout",
     "output_type": "stream",
     "text": [
      "Epoch 1/3\n",
      "WARNING:tensorflow:From /usr/local/lib/python3.6/dist-packages/tensorflow/python/ops/linalg/linear_operator_diag.py:175: calling LinearOperator.__init__ (from tensorflow.python.ops.linalg.linear_operator) with graph_parents is deprecated and will be removed in a future version.\n",
      "Instructions for updating:\n",
      "Do not pass `graph_parents`.  They will  no longer be used.\n",
      "2673/2673 [==============================] - 200s 73ms/step - loss: -70.9012 - val_loss: -61.6959\n",
      "\n",
      "Epoch 00001: val_loss improved from inf to -61.69592, saving model to models/lstm_mdn2-E01-VL-61.70.h5\n",
      "Epoch 2/3\n",
      "2673/2673 [==============================] - 194s 73ms/step - loss: -117.3758 - val_loss: -70.3446\n",
      "\n",
      "Epoch 00002: val_loss improved from -61.69592 to -70.34464, saving model to models/lstm_mdn2-E02-VL-70.34.h5\n",
      "Epoch 3/3\n",
      "2673/2673 [==============================] - 194s 73ms/step - loss: -131.2322 - val_loss: -91.2353\n",
      "\n",
      "Epoch 00003: val_loss improved from -70.34464 to -91.23526, saving model to models/lstm_mdn2-E03-VL-91.24.h5\n"
     ]
    },
    {
     "data": {
      "image/png": "[encoded data removed]",
      "text/plain": [
       "<Figure size 720x360 with 1 Axes>"
      ]
     },
     "metadata": {
      "needs_background": "light"
     },
     "output_type": "display_data"
    }
   ],
   "source": [
    "\n",
    "# Parameters\n",
    "limit = int(np.floor(len(X_train)/BATCH_SIZE))*BATCH_SIZE\n",
    "\n",
    "\n",
    "# Define callbacks\n",
    "filepath=\"models/lstm_mdn2-E{epoch:02d}-VL{val_loss:.2f}.h5\"\n",
    "checkpoint = keras.callbacks.ModelCheckpoint(filepath, save_weights_only=True, verbose=1, save_best_only=True, mode='min')\n",
    "early_stopping = keras.callbacks.EarlyStopping(monitor='val_loss', mode='min', verbose=1, patience=10)\n",
    "callbacks = [keras.callbacks.TerminateOnNaN(), checkpoint, early_stopping]\n",
    "\n",
    "history = model.fit(X, y, batch_size=BATCH_SIZE, epochs=EPOCHS, callbacks=callbacks, validation_split=VAL_SPLIT)\n",
    "\n",
    "# Save the Model\n",
    "model.save('models/'+filename+'.h5')  # creates a HDF5 file of the model\n",
    "\n",
    "# Plot the loss\n",
    "%matplotlib inline\n",
    "plt.figure(figsize=(10, 5))\n",
    "plt.plot(history.history['loss'])\n",
    "plt.plot(history.history['val_loss'])\n",
    "plt.xlabel(\"epochs\")\n",
    "plt.ylabel(\"loss\")\n",
    "plt.show()"
   ]
  },
  {
   "cell_type": "markdown",
   "metadata": {},
   "source": [
    "### load model"
   ]
  },
  {
   "cell_type": "code",
   "execution_count": 6,
   "metadata": {},
   "outputs": [
    {
     "ename": "OSError",
     "evalue": "SavedModel file does not exist at: models/['maria']_traj_False_epochs_3_lookback_10_outlook_1_params_32_temp_1.0_RESCALE_True_batchsize_64_addInput_False.h5/{saved_model.pbtxt|saved_model.pb}",
     "output_type": "error",
     "traceback": [
      "\u001b[0;31m---------------------------------------------------------------------------\u001b[0m",
      "\u001b[0;31mOSError\u001b[0m                                   Traceback (most recent call last)",
      "\u001b[0;32m<ipython-input-6-a2cb45fe6536>\u001b[0m in \u001b[0;36m<module>\u001b[0;34m\u001b[0m\n\u001b[0;32m----> 1\u001b[0;31m \u001b[0mmodel\u001b[0m \u001b[0;34m=\u001b[0m \u001b[0mtf\u001b[0m\u001b[0;34m.\u001b[0m\u001b[0mkeras\u001b[0m\u001b[0;34m.\u001b[0m\u001b[0mmodels\u001b[0m\u001b[0;34m.\u001b[0m\u001b[0mload_model\u001b[0m\u001b[0;34m(\u001b[0m\u001b[0;34m'models/'\u001b[0m\u001b[0;34m+\u001b[0m\u001b[0mfilename\u001b[0m\u001b[0;34m+\u001b[0m\u001b[0;34m'.h5'\u001b[0m\u001b[0;34m,\u001b[0m\u001b[0mcustom_objects\u001b[0m\u001b[0;34m=\u001b[0m\u001b[0;34m{\u001b[0m\u001b[0;34m'MDN'\u001b[0m\u001b[0;34m:\u001b[0m \u001b[0mmdn\u001b[0m\u001b[0;34m.\u001b[0m\u001b[0mMDN\u001b[0m\u001b[0;34m,\u001b[0m \u001b[0;34m'mdn_loss_func'\u001b[0m\u001b[0;34m:\u001b[0m \u001b[0mcustom_mixture_loss_func\u001b[0m\u001b[0;34m(\u001b[0m\u001b[0;36m51\u001b[0m\u001b[0;34m,\u001b[0m\u001b[0;36m3\u001b[0m\u001b[0;34m)\u001b[0m\u001b[0;34m}\u001b[0m\u001b[0;34m)\u001b[0m\u001b[0;34m\u001b[0m\u001b[0;34m\u001b[0m\u001b[0m\n\u001b[0m",
      "\u001b[0;32m/usr/local/lib/python3.6/dist-packages/tensorflow/python/keras/saving/save.py\u001b[0m in \u001b[0;36mload_model\u001b[0;34m(filepath, custom_objects, compile, options)\u001b[0m\n\u001b[1;32m    209\u001b[0m       \u001b[0mfilepath\u001b[0m \u001b[0;34m=\u001b[0m \u001b[0mpath_to_string\u001b[0m\u001b[0;34m(\u001b[0m\u001b[0mfilepath\u001b[0m\u001b[0;34m)\u001b[0m\u001b[0;34m\u001b[0m\u001b[0;34m\u001b[0m\u001b[0m\n\u001b[1;32m    210\u001b[0m       \u001b[0;32mif\u001b[0m \u001b[0misinstance\u001b[0m\u001b[0;34m(\u001b[0m\u001b[0mfilepath\u001b[0m\u001b[0;34m,\u001b[0m \u001b[0msix\u001b[0m\u001b[0;34m.\u001b[0m\u001b[0mstring_types\u001b[0m\u001b[0;34m)\u001b[0m\u001b[0;34m:\u001b[0m\u001b[0;34m\u001b[0m\u001b[0;34m\u001b[0m\u001b[0m\n\u001b[0;32m--> 211\u001b[0;31m         \u001b[0mloader_impl\u001b[0m\u001b[0;34m.\u001b[0m\u001b[0mparse_saved_model\u001b[0m\u001b[0;34m(\u001b[0m\u001b[0mfilepath\u001b[0m\u001b[0;34m)\u001b[0m\u001b[0;34m\u001b[0m\u001b[0;34m\u001b[0m\u001b[0m\n\u001b[0m\u001b[1;32m    212\u001b[0m         \u001b[0;32mreturn\u001b[0m \u001b[0msaved_model_load\u001b[0m\u001b[0;34m.\u001b[0m\u001b[0mload\u001b[0m\u001b[0;34m(\u001b[0m\u001b[0mfilepath\u001b[0m\u001b[0;34m,\u001b[0m \u001b[0mcompile\u001b[0m\u001b[0;34m,\u001b[0m \u001b[0moptions\u001b[0m\u001b[0;34m)\u001b[0m\u001b[0;34m\u001b[0m\u001b[0;34m\u001b[0m\u001b[0m\n\u001b[1;32m    213\u001b[0m \u001b[0;34m\u001b[0m\u001b[0m\n",
      "\u001b[0;32m/usr/local/lib/python3.6/dist-packages/tensorflow/python/saved_model/loader_impl.py\u001b[0m in \u001b[0;36mparse_saved_model\u001b[0;34m(export_dir)\u001b[0m\n\u001b[1;32m    112\u001b[0m                   (export_dir,\n\u001b[1;32m    113\u001b[0m                    \u001b[0mconstants\u001b[0m\u001b[0;34m.\u001b[0m\u001b[0mSAVED_MODEL_FILENAME_PBTXT\u001b[0m\u001b[0;34m,\u001b[0m\u001b[0;34m\u001b[0m\u001b[0;34m\u001b[0m\u001b[0m\n\u001b[0;32m--> 114\u001b[0;31m                    constants.SAVED_MODEL_FILENAME_PB))\n\u001b[0m\u001b[1;32m    115\u001b[0m \u001b[0;34m\u001b[0m\u001b[0m\n\u001b[1;32m    116\u001b[0m \u001b[0;34m\u001b[0m\u001b[0m\n",
      "\u001b[0;31mOSError\u001b[0m: SavedModel file does not exist at: models/['maria']_traj_False_epochs_3_lookback_10_outlook_1_params_32_temp_1.0_RESCALE_True_batchsize_64_addInput_False.h5/{saved_model.pbtxt|saved_model.pb}"
     ]
    }
   ],
   "source": [
    "model = tf.keras.models.load_model('models/'+filename+'.h5',custom_objects={'MDN': mdn.MDN, 'mdn_loss_func': custom_mixture_loss_func(51,3)}) "
   ]
  },
  {
   "cell_type": "markdown",
   "metadata": {},
   "source": [
    "### Generate sequence(s)"
   ]
  },
  {
   "cell_type": "code",
   "execution_count": 8,
   "metadata": {},
   "outputs": [
    {
     "data": {
      "image/png": "[encoded data removed]",
      "text/plain": [
       "<Figure size 432x288 with 1 Axes>"
      ]
     },
     "metadata": {
      "needs_background": "light"
     },
     "output_type": "display_data"
    }
   ],
   "source": [
    "start_frame = 100\n",
    "number_frames = 100\n",
    "r = np.arange(0, 100, 100/(number_frames+LOOK_BACK))\n",
    "SIN_SCALE = 0.1\n",
    "if ADD_SD:\n",
    "    extra_input = (np.sin(r*SIN_SCALE)+1)*0.2 + np.sin(r*np.sin(4)+1)*0.02 + 0.2\n",
    "    #extra_input = np.sin(r*np.sin(1)+1)*0.001\n",
    "else:\n",
    "    extra_input = np.array([]) \n",
    "    \n",
    "plt.plot(extra_input)\n",
    "plt.show()"
   ]
  },
  {
   "cell_type": "code",
   "execution_count": 9,
   "metadata": {},
   "outputs": [
    {
     "name": "stdout",
     "output_type": "stream",
     "text": [
      "init: (10, 51)\n"
     ]
    },
    {
     "ename": "NameError",
     "evalue": "name 'model' is not defined",
     "output_type": "error",
     "traceback": [
      "\u001b[0;31m---------------------------------------------------------------------------\u001b[0m",
      "\u001b[0;31mNameError\u001b[0m                                 Traceback (most recent call last)",
      "\u001b[0;32m<ipython-input-9-6487ecb6ef67>\u001b[0m in \u001b[0;36m<module>\u001b[0;34m\u001b[0m\n\u001b[1;32m      1\u001b[0m \u001b[0mprint\u001b[0m\u001b[0;34m(\u001b[0m\u001b[0;34m'init: '\u001b[0m\u001b[0;34m+\u001b[0m\u001b[0mstr\u001b[0m\u001b[0;34m(\u001b[0m\u001b[0mX_test\u001b[0m\u001b[0;34m[\u001b[0m\u001b[0mstart_frame\u001b[0m\u001b[0;34m]\u001b[0m\u001b[0;34m.\u001b[0m\u001b[0mshape\u001b[0m\u001b[0;34m)\u001b[0m\u001b[0;34m)\u001b[0m\u001b[0;34m\u001b[0m\u001b[0;34m\u001b[0m\u001b[0m\n\u001b[1;32m      2\u001b[0m \u001b[0;34m\u001b[0m\u001b[0m\n\u001b[0;32m----> 3\u001b[0;31m \u001b[0mlonger_performance\u001b[0m \u001b[0;34m=\u001b[0m \u001b[0mgenerate_performance\u001b[0m\u001b[0;34m(\u001b[0m\u001b[0mmodel\u001b[0m\u001b[0;34m,\u001b[0m\u001b[0mX_test\u001b[0m\u001b[0;34m[\u001b[0m\u001b[0mstart_frame\u001b[0m\u001b[0;34m]\u001b[0m\u001b[0;34m[\u001b[0m\u001b[0;34m:\u001b[0m\u001b[0;34m,\u001b[0m\u001b[0;34m:\u001b[0m\u001b[0;36m51\u001b[0m\u001b[0;34m]\u001b[0m\u001b[0;34m,\u001b[0m \u001b[0msteps_limit\u001b[0m\u001b[0;34m=\u001b[0m\u001b[0mnumber_frames\u001b[0m\u001b[0;34m,\u001b[0m \u001b[0mlook_back\u001b[0m\u001b[0;34m=\u001b[0m\u001b[0mLOOK_BACK\u001b[0m\u001b[0;34m,\u001b[0m\u001b[0mtemp\u001b[0m \u001b[0;34m=\u001b[0m \u001b[0mTEMP\u001b[0m\u001b[0;34m,\u001b[0m \u001b[0mhip_correction\u001b[0m\u001b[0;34m=\u001b[0m\u001b[0mTRAJ_ON\u001b[0m\u001b[0;34m,\u001b[0m \u001b[0mrescale_post\u001b[0m\u001b[0;34m=\u001b[0m\u001b[0;32mFalse\u001b[0m\u001b[0;34m,\u001b[0m \u001b[0mrescale_process\u001b[0m\u001b[0;34m=\u001b[0m\u001b[0;32mFalse\u001b[0m\u001b[0;34m,\u001b[0m \u001b[0mbody_segments\u001b[0m \u001b[0;34m=\u001b[0m \u001b[0mBODY_SEGS\u001b[0m\u001b[0;34m)\u001b[0m\u001b[0;34m\u001b[0m\u001b[0;34m\u001b[0m\u001b[0m\n\u001b[0m\u001b[1;32m      4\u001b[0m \u001b[0mprint\u001b[0m\u001b[0;34m(\u001b[0m\u001b[0mlonger_performance\u001b[0m\u001b[0;34m.\u001b[0m\u001b[0mshape\u001b[0m\u001b[0;34m)\u001b[0m\u001b[0;34m\u001b[0m\u001b[0;34m\u001b[0m\u001b[0m\n\u001b[1;32m      5\u001b[0m \u001b[0;34m\u001b[0m\u001b[0m\n",
      "\u001b[0;31mNameError\u001b[0m: name 'model' is not defined"
     ]
    }
   ],
   "source": [
    "\n",
    "print('init: '+str(X_test[start_frame].shape))\n",
    "\n",
    "longer_performance = generate_performance(model,X_test[start_frame][:,:51], steps_limit=number_frames, look_back=LOOK_BACK,temp = TEMP, hip_correction=TRAJ_ON, rescale_post=False, rescale_process=False, body_segments = BODY_SEGS)\n",
    "print(longer_performance.shape)\n",
    "\n",
    "#save to file in json format so that it can be used by \n",
    "save_seq_to_json(longer_performance, \"../sequences/generated_sequence_\"+filename+\"_sin_\"+str(SIN_SCALE)+\".json\", path_base_dir=os.path.abspath(\"./\"))"
   ]
  },
  {
   "cell_type": "code",
   "execution_count": 13,
   "metadata": {},
   "outputs": [
    {
     "data": {
      "image/png": "[encoded data removed]",
      "text/plain": [
       "<Figure size 432x288 with 1 Axes>"
      ]
     },
     "metadata": {
      "needs_background": "light"
     },
     "output_type": "display_data"
    }
   ],
   "source": [
    "plt.plot(longer_performance[:300,2,:])\n",
    "plt.show()"
   ]
  },
  {
   "cell_type": "code",
   "execution_count": 4,
   "metadata": {},
   "outputs": [],
   "source": [
    "performance = X_train.reshape((X_train.shape[0],17,3))[2000:4000]\n",
    "filename = 'traindata.json'\n",
    "path_base_dir=os.path.abspath(\"./\")\n",
    "\n",
    "jsonData = {}\n",
    "jsonData['bones'] = {\n",
    "    'rightLeg': [0,1,2,3],\n",
    "    'leftLeg' : [0,4,5,6],\n",
    "    'spine': [0,7,8],\n",
    "    'rightArm':[8,14,15,16],\n",
    "    'leftArm':[8,11,12,13],\n",
    "    'head':[8,9,10]\n",
    "}\n",
    "\n",
    "jsonData['frames'] = {}\n",
    "frameIdx = 0;\n",
    "for frame in performance:\n",
    "    jsonData['frames'][frameIdx] = []\n",
    "    for point in frame:\n",
    "        jsonData['frames'][frameIdx].append([point[0].astype(float), point[1].astype(float), point[2].astype(float)])\n",
    "    frameIdx += 1\n",
    "with open(os.path.join(path_base_dir, filename), 'w') as outfile:\n",
    "    json.dump(jsonData, outfile)"
   ]
  },
  {
   "cell_type": "code",
   "execution_count": null,
   "metadata": {},
   "outputs": [],
   "source": []
  }
 ],
 "metadata": {
  "kernelspec": {
   "display_name": "Python 3",
   "language": "python",
   "name": "python3"
  },
  "language_info": {
   "codemirror_mode": {
    "name": "ipython",
    "version": 3
   },
   "file_extension": ".py",
   "mimetype": "text/x-python",
   "name": "python",
   "nbconvert_exporter": "python",
   "pygments_lexer": "ipython3",
   "version": "3.6.9"
  }
 },
 "nbformat": 4,
 "nbformat_minor": 4
}
