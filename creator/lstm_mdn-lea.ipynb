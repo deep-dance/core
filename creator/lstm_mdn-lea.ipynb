{
 "cells": [
  {
   "cell_type": "markdown",
   "metadata": {},
   "source": [
    "# RNN for 3D keypoint generation"
   ]
  },
  {
   "cell_type": "markdown",
   "metadata": {},
   "source": [
    "## Build network with Keras"
   ]
  },
  {
   "cell_type": "code",
   "execution_count": 5,
   "metadata": {},
   "outputs": [
    {
     "name": "stdout",
     "output_type": "stream",
     "text": [
      "Num GPUs Available:  1\n"
     ]
    }
   ],
   "source": [
    "import warnings\n",
    "warnings.filterwarnings('ignore')\n",
    "\n",
    "import importlib\n",
    "import time\n",
    "\n",
    "import math\n",
    "import numpy as np\n",
    "import tensorflow as tf\n",
    "from tensorflow import keras\n",
    "from tensorflow.keras import layers\n",
    "import matplotlib.pyplot as plt\n",
    "%matplotlib inline\n",
    "import numpy as np\n",
    "from sklearn.model_selection import train_test_split\n",
    "import mdn\n",
    "from tensorflow.compat.v1 import ConfigProto\n",
    "from tensorflow.compat.v1 import InteractiveSession\n",
    "\n",
    "from data_utils import *\n",
    "\n",
    "import os,sys,inspect\n",
    "currentdir = os.path.dirname(os.path.abspath(inspect.getfile(inspect.currentframe())))\n",
    "parentdir = os.path.dirname(currentdir)\n",
    "sys.path.insert(0,os.path.join(parentdir, 'renderer')) \n",
    "#from common import *\n",
    "\n",
    "config = ConfigProto()\n",
    "config.gpu_options.allow_growth = True\n",
    "session = InteractiveSession(config=config)\n",
    "\n",
    "print(\"Num GPUs Available: \", len(tf.config.experimental.list_physical_devices('GPU')))"
   ]
  },
  {
   "cell_type": "markdown",
   "metadata": {},
   "source": [
    "### Parameters"
   ]
  },
  {
   "cell_type": "code",
   "execution_count": 6,
   "metadata": {},
   "outputs": [],
   "source": [
    "#Dataset Generation\n",
    "LOOK_BACK = 10\n",
    "OUT_LOOK = 1\n",
    "TAGS = [\"impro\"]\n",
    "DANCER = [\"maria\"]\n",
    "TRAJ_ON = False\n",
    "TEST_SHARE = 0.05\n",
    "NORMALIZE_Z = True\n",
    "ADD_SD = False\n",
    "\n",
    "#Model\n",
    "LSTM_PARAMS = 32\n",
    "MODEL_NAME = 'lstm-mdn-lea'\n",
    "\n",
    "#Training\n",
    "BATCH_SIZE = 64\n",
    "EPOCHS = 1\n",
    "VAL_SPLIT = 0.05\n",
    "\n",
    "#Generation\n",
    "TEMP = 1.0\n",
    "RESCALE = True\n",
    "\n",
    "\n",
    "BODY_SEGS = np.array([0.09205135, 0.38231316, 0.37099043, 0.09205053, 0.38036615,\n",
    "        0.37101445, 0.20778206, 0.23425052, 0.0848529 , 0.10083677,\n",
    "        0.10969228, 0.23822378, 0.19867802, 0.10972143, 0.23854321,\n",
    "        0.1993194 ])\n",
    "filename = 'model1'\n",
    "#filename = str(DANCER)+\"_traj_\"+str(TRAJ_ON)+\"_epochs_\"+str(EPOCHS)+\"_lookback_\"+str(LOOK_BACK)+\"_outlook_\"+str(OUT_LOOK)+\"_params_\"+str(LSTM_PARAMS)+\"_temp_\"+str(TEMP)+\"_RESCALE_\"+str(RESCALE)+\"_batchsize_\"+str(BATCH_SIZE)+\"_addInput_\"+str(ADD_SD)"
   ]
  },
  {
   "cell_type": "markdown",
   "metadata": {},
   "source": [
    "### Import keypoint sequences"
   ]
  },
  {
   "cell_type": "code",
   "execution_count": 7,
   "metadata": {},
   "outputs": [
    {
     "name": "stdout",
     "output_type": "stream",
     "text": [
      "Getting data for dancers:  ['maria']\n",
      "Getting data for tags:  ['impro']\n",
      "Normalizing body...\n",
      "data shape:\n",
      "X_train:  (171057, 10, 51)\n",
      "y_train:  (171057, 1, 51)\n",
      "X_test:  (9004, 10, 51)\n",
      "y_test:  (9004, 1, 51)\n"
     ]
    }
   ],
   "source": [
    "#load data, you can filter with: dancers = [\"maria\", \"raymond\", ...] and tags = [\"impro\", ...]\n",
    "X, y = get_training_data(dancers=DANCER, tags=TAGS,look_back = LOOK_BACK, target_length= OUT_LOOK, hip_correction = TRAJ_ON, normalize_z=NORMALIZE_Z, normalize_body=True, body_segments = BODY_SEGS)\n",
    "\n",
    "# split into train and test set\n",
    "X_train, X_test, y_train, y_test = train_test_split(X, y, test_size=TEST_SHARE, shuffle= False, random_state=42)\n",
    "\n",
    "print(\"data shape:\")\n",
    "print(\"X_train: \", np.shape(X_train))\n",
    "print(\"y_train: \", np.shape(y_train))\n",
    "print(\"X_test: \", np.shape(X_test))\n",
    "print(\"y_test: \", np.shape(y_test))"
   ]
  },
  {
   "cell_type": "code",
   "execution_count": 8,
   "metadata": {},
   "outputs": [
    {
     "data": {
      "image/png": "[encoded data removed]",
      "text/plain": [
       "<Figure size 432x288 with 1 Axes>"
      ]
     },
     "metadata": {
      "needs_background": "light"
     },
     "output_type": "display_data"
    }
   ],
   "source": [
    "plt.plot(X_train[1000:1100,0,3])\n",
    "plt.show()"
   ]
  },
  {
   "cell_type": "markdown",
   "metadata": {},
   "source": [
    "### build model"
   ]
  },
  {
   "cell_type": "code",
   "execution_count": 4,
   "metadata": {},
   "outputs": [
    {
     "name": "stdout",
     "output_type": "stream",
     "text": [
      "Model: \"sequential\"\n",
      "_________________________________________________________________\n",
      "Layer (type)                 Output Shape              Param #   \n",
      "=================================================================\n",
      "lstm (LSTM)                  (None, 10, 32)            10752     \n",
      "_________________________________________________________________\n",
      "lstm_1 (LSTM)                (None, 10, 32)            8320      \n",
      "_________________________________________________________________\n",
      "lstm_2 (LSTM)                (None, 51)                17136     \n",
      "_________________________________________________________________\n",
      "dense (Dense)                (None, 51)                2652      \n",
      "_________________________________________________________________\n",
      "mdn (MDN)                    (None, 309)               16068     \n",
      "=================================================================\n",
      "Total params: 54,928\n",
      "Trainable params: 54,928\n",
      "Non-trainable params: 0\n",
      "_________________________________________________________________\n"
     ]
    }
   ],
   "source": [
    "model = keras.Sequential()\n",
    "model.add(layers.LSTM(LSTM_PARAMS, input_shape=(LOOK_BACK, X_train.shape[2]),  return_sequences=True))\n",
    "model.add(layers.LSTM(LSTM_PARAMS, return_sequences=True))\n",
    "model.add(layers.LSTM(OUT_LOOK*51))\n",
    "model.add(layers.Dense(OUT_LOOK*51))\n",
    "model.add(mdn.MDN(OUT_LOOK*51, 3))\n",
    "model.compile(loss=custom_mixture_loss_func(OUT_LOOK*51,3), optimizer=keras.optimizers.Adam())\n",
    "#model.compile(loss=keras.losses.MeanSquaredError(), optimizer=keras.optimizers.Adam())\n",
    "model.summary()"
   ]
  },
  {
   "cell_type": "markdown",
   "metadata": {},
   "source": [
    "### Train model"
   ]
  },
  {
   "cell_type": "code",
   "execution_count": 12,
   "metadata": {
    "scrolled": true
   },
   "outputs": [
    {
     "name": "stdout",
     "output_type": "stream",
     "text": [
      "WARNING:tensorflow:From /usr/local/lib/python3.6/dist-packages/tensorflow/python/ops/linalg/linear_operator_diag.py:175: calling LinearOperator.__init__ (from tensorflow.python.ops.linalg.linear_operator) with graph_parents is deprecated and will be removed in a future version.\n",
      "Instructions for updating:\n",
      "Do not pass `graph_parents`.  They will  no longer be used.\n",
      "2673/2673 [==============================] - 201s 74ms/step - loss: -70.0062 - val_loss: -71.3528\n",
      "\n",
      "Epoch 00001: val_loss improved from inf to -71.35276, saving model to models/lstm_mdn2-E01-VL-71.35.h5\n"
     ]
    },
    {
     "data": {
      "image/png": "[encoded data removed]",
      "text/plain": [
       "<Figure size 720x360 with 1 Axes>"
      ]
     },
     "metadata": {
      "needs_background": "light"
     },
     "output_type": "display_data"
    }
   ],
   "source": [
    "\n",
    "# Parameters\n",
    "limit = int(np.floor(len(X_train)/BATCH_SIZE))*BATCH_SIZE\n",
    "\n",
    "\n",
    "# Define callbacks\n",
    "filepath=\"models/lstm_mdn2-E{epoch:02d}-VL{val_loss:.2f}.h5\"\n",
    "checkpoint = keras.callbacks.ModelCheckpoint(filepath, save_weights_only=True, verbose=1, save_best_only=True, mode='min')\n",
    "early_stopping = keras.callbacks.EarlyStopping(monitor='val_loss', mode='min', verbose=1, patience=10)\n",
    "callbacks = [keras.callbacks.TerminateOnNaN(), checkpoint, early_stopping]\n",
    "\n",
    "history = model.fit(X, y, batch_size=BATCH_SIZE, epochs=EPOCHS, callbacks=callbacks, validation_split=VAL_SPLIT)\n",
    "\n",
    "# Save the Model\n",
    "model.save('models/'+filename+'.h5')  # creates a HDF5 file of the model\n",
    "\n",
    "# Plot the loss\n",
    "%matplotlib inline\n",
    "plt.figure(figsize=(10, 5))\n",
    "plt.plot(history.history['loss'])\n",
    "plt.plot(history.history['val_loss'])\n",
    "plt.xlabel(\"epochs\")\n",
    "plt.ylabel(\"loss\")\n",
    "plt.show()"
   ]
  },
  {
   "cell_type": "markdown",
   "metadata": {},
   "source": [
    "### load model"
   ]
  },
  {
   "cell_type": "code",
   "execution_count": 9,
   "metadata": {},
   "outputs": [],
   "source": [
    "model1 = tf.keras.models.load_model('models/'+filename+'.h5',custom_objects={'MDN': mdn.MDN, 'mdn_loss_func': custom_mixture_loss_func(51,3)})\n",
    "model2 = tf.keras.models.load_model('models/'+filename+'.h5',custom_objects={'MDN': mdn.MDN, 'mdn_loss_func': custom_mixture_loss_func(51,3)}) "
   ]
  },
  {
   "cell_type": "markdown",
   "metadata": {},
   "source": [
    "### Generate sequence(s)"
   ]
  },
  {
   "cell_type": "code",
   "execution_count": 10,
   "metadata": {
    "scrolled": false
   },
   "outputs": [
    {
     "name": "stdout",
     "output_type": "stream",
     "text": [
      "init: (10, 51)\n",
      "(110, 17, 3)\n",
      "(210, 17, 3)\n",
      "(310, 17, 3)\n",
      "(410, 17, 3)\n",
      "(510, 17, 3)\n",
      "(610, 17, 3)\n",
      "(710, 17, 3)\n",
      "(810, 17, 3)\n",
      "(910, 17, 3)\n",
      "(1010, 17, 3)\n",
      "(1110, 17, 3)\n",
      "(1210, 17, 3)\n",
      "(1310, 17, 3)\n",
      "(1410, 17, 3)\n",
      "(1510, 17, 3)\n",
      "(1610, 17, 3)\n",
      "Correct the Hip\n",
      "(1610, 17, 3)\n"
     ]
    }
   ],
   "source": [
    "start_frame = 300\n",
    "#number_frames = 2000\n",
    "print('init: '+str(X_test[start_frame].shape))\n",
    "\n",
    "model_list = [{'model':model1, 'temps':[{'temp':0.1, 'frames':100},\n",
    "                                        {'temp':0.2, 'frames':100},\n",
    "                                        {'temp':0.3, 'frames':100},\n",
    "                                        {'temp':0.4, 'frames':100},\n",
    "                                        {'temp':0.5, 'frames':100},\n",
    "                                        {'temp':0.6, 'frames':100},\n",
    "                                        {'temp':0.7, 'frames':100},\n",
    "                                        {'temp':0.8, 'frames':100},\n",
    "                                        {'temp':0.9, 'frames':100},\n",
    "                                        {'temp':0.8, 'frames':100},\n",
    "                                        {'temp':0.7, 'frames':100},\n",
    "                                        {'temp':0.5, 'frames':100},\n",
    "                                        {'temp':0.4, 'frames':100},\n",
    "                                        {'temp':0.3, 'frames':100},\n",
    "                                        {'temp':0.2, 'frames':100},\n",
    "                                        {'temp':0.1, 'frames':100}]}]\n",
    "\n",
    "longer_performance = generate_changing_performance(models=model_list,input_frames=X_test[start_frame][:,:51], look_back=LOOK_BACK, traj=TRAJ_ON,rescale_post=True)\n",
    "print(longer_performance.shape)\n",
    "\n",
    "#save to file in json format so that it can be used by \n",
    "save_seq_to_json(longer_performance, \"../sequences/generated_sequence_\"+filename+\".json\", path_base_dir=os.path.abspath(\"./\"))"
   ]
  },
  {
   "cell_type": "code",
   "execution_count": 11,
   "metadata": {},
   "outputs": [
    {
     "data": {
      "image/png": "[encoded data removed]",
      "text/plain": [
       "<Figure size 432x288 with 1 Axes>"
      ]
     },
     "metadata": {
      "needs_background": "light"
     },
     "output_type": "display_data"
    }
   ],
   "source": [
    "plt.plot(longer_performance[:,10,:])\n",
    "plt.show()"
   ]
  },
  {
   "cell_type": "code",
   "execution_count": 9,
   "metadata": {},
   "outputs": [],
   "source": [
    "performance = X_train.reshape((X_train.shape[0],17,3))[2000:4000]\n",
    "filename = 'traindata.json'\n",
    "path_base_dir=os.path.abspath(\"./\")\n",
    "\n",
    "jsonData = {}\n",
    "jsonData['bones'] = {\n",
    "    'rightLeg': [0,1,2,3],\n",
    "    'leftLeg' : [0,4,5,6],\n",
    "    'spine': [0,7,8],\n",
    "    'rightArm':[8,14,15,16],\n",
    "    'leftArm':[8,11,12,13],\n",
    "    'head':[8,9,10]\n",
    "}\n",
    "\n",
    "jsonData['frames'] = {}\n",
    "frameIdx = 0;\n",
    "for frame in performance:\n",
    "    jsonData['frames'][frameIdx] = []\n",
    "    for point in frame:\n",
    "        jsonData['frames'][frameIdx].append([point[0].astype(float), point[1].astype(float), point[2].astype(float)])\n",
    "    frameIdx += 1\n",
    "with open(os.path.join(path_base_dir, filename), 'w') as outfile:\n",
    "    json.dump(jsonData, outfile)"
   ]
  },
  {
   "cell_type": "code",
   "execution_count": null,
   "metadata": {},
   "outputs": [],
   "source": []
  }
 ],
 "metadata": {
  "kernelspec": {
   "display_name": "Python 3",
   "language": "python",
   "name": "python3"
  },
  "language_info": {
   "codemirror_mode": {
    "name": "ipython",
    "version": 3
   },
   "file_extension": ".py",
   "mimetype": "text/x-python",
   "name": "python",
   "nbconvert_exporter": "python",
   "pygments_lexer": "ipython3",
   "version": "3.6.9"
  }
 },
 "nbformat": 4,
 "nbformat_minor": 4
}
